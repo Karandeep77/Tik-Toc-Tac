{
 "cells": [
  {
   "cell_type": "markdown",
   "metadata": {},
   "source": [
    "# TIK TAC TOE"
   ]
  },
  {
   "cell_type": "markdown",
   "metadata": {},
   "source": [
    "## Creating the board"
   ]
  },
  {
   "cell_type": "code",
   "execution_count": 1,
   "metadata": {},
   "outputs": [
    {
     "name": "stdout",
     "output_type": "stream",
     "text": [
      "[['-' '-' '-']\n",
      " ['-' '-' '-']\n",
      " ['-' '-' '-']]\n"
     ]
    }
   ],
   "source": [
    "import numpy as  np\n",
    "board = np.array([['-','-','-'],['-','-','-'],['-','-','-']])\n",
    "print(board)"
   ]
  },
  {
   "cell_type": "markdown",
   "metadata": {},
   "source": [
    "# Function to place the symbal placed by user"
   ]
  },
  {
   "cell_type": "code",
   "execution_count": 2,
   "metadata": {},
   "outputs": [],
   "source": [
    "def place(symbol):\n",
    "    print(np.matrix(board))\n",
    "    row=int(input(\"Enter the row number 1 or 2 or 3 :\"))\n",
    "    col=int(input(\"Enter the col number 1 or 2 or 3 :\"))\n",
    "    while(1):\n",
    "        if row<4 and row>0 and col>0 and col<4 and board[row-1][col-1]=='-':\n",
    "            break\n",
    "        else:\n",
    "            print(\"Invalid move\")\n",
    "            break\n",
    "    board[row-1][col-1]=symbol\n",
    "    #print(board)\n",
    "    \n",
    "#place(\"O\")"
   ]
  },
  {
   "cell_type": "markdown",
   "metadata": {},
   "source": [
    "# To check all rows are equal"
   ]
  },
  {
   "cell_type": "code",
   "execution_count": 3,
   "metadata": {},
   "outputs": [],
   "source": [
    "def check_row(symbol):\n",
    "    for i in range(3):\n",
    "        count=0\n",
    "        for c in range(3):\n",
    "            if board[i][c]==symbol:\n",
    "                count+=1\n",
    "        if count==3:\n",
    "            print(symbol, \"won\")\n",
    "            return True\n",
    "    return False\n",
    "#print(check_row(\"O\"))"
   ]
  },
  {
   "cell_type": "markdown",
   "metadata": {},
   "source": [
    "# To check all columns are equal"
   ]
  },
  {
   "cell_type": "code",
   "execution_count": 4,
   "metadata": {},
   "outputs": [],
   "source": [
    "def check_col(symbol):\n",
    "    for r in range(3):\n",
    "        count=0\n",
    "        for c in range(3):\n",
    "            if board[c][r]==symbol:\n",
    "                count+=1\n",
    "        if count==3:\n",
    "            print(symbol, \"won\")\n",
    "            return True\n",
    "    return False\n",
    "#print(check_col(\"X\"))"
   ]
  },
  {
   "cell_type": "markdown",
   "metadata": {},
   "source": [
    "# To check all diagonal are equal"
   ]
  },
  {
   "cell_type": "code",
   "execution_count": 5,
   "metadata": {},
   "outputs": [],
   "source": [
    "\"\"\"def diagonal(symbol):\n",
    "    for i in range(3):\n",
    "        count=0\n",
    "        for c in range(3):\n",
    "            if i==c or board[0][2]==symbol or board[2][0]==symbol:\n",
    "                if board[i][c]==symbol:\n",
    "                    count+=1\n",
    "        if count==3:\n",
    "            print(symbol, \"won\")\n",
    "        return True\n",
    "    return False\"\"\"\n",
    "\n",
    "def check_diagonal(symbol):\n",
    "    if board[0][0]==board[1][1] and board[1][1]==board[2][2] and board[0][0]==symbol:\n",
    "        print(symbol,\"won\")\n",
    "        return True\n",
    "    if board[2][0]==board[1][1] and board[0][2]==board[1][1] and board[1][1]==symbol:\n",
    "        print(symbol,\"won\")\n",
    "        return True\n",
    "    return False\n",
    "#check_diagonal(\"O\")"
   ]
  },
  {
   "cell_type": "code",
   "execution_count": null,
   "metadata": {},
   "outputs": [],
   "source": []
  },
  {
   "cell_type": "markdown",
   "metadata": {},
   "source": [
    "# Winning cretirian function"
   ]
  },
  {
   "cell_type": "code",
   "execution_count": 6,
   "metadata": {},
   "outputs": [
    {
     "data": {
      "text/plain": [
       "False"
      ]
     },
     "execution_count": 6,
     "metadata": {},
     "output_type": "execute_result"
    }
   ],
   "source": [
    "def won (symbol):\n",
    "    return check_row(symbol) or check_diagonal(symbol) or check_col(symbol) \n",
    "won(\"X\")"
   ]
  },
  {
   "cell_type": "markdown",
   "metadata": {},
   "source": [
    "# LET's PLAY "
   ]
  },
  {
   "cell_type": "code",
   "execution_count": 7,
   "metadata": {},
   "outputs": [
    {
     "name": "stdout",
     "output_type": "stream",
     "text": [
      "X turn\n",
      "[['-' '-' '-']\n",
      " ['-' '-' '-']\n",
      " ['-' '-' '-']]\n",
      "Enter the row number 1 or 2 or 3 :1\n",
      "Enter the col number 1 or 2 or 3 :1\n",
      "j\n",
      "O turn\n",
      "[['X' '-' '-']\n",
      " ['-' '-' '-']\n",
      " ['-' '-' '-']]\n",
      "Enter the row number 1 or 2 or 3 :2\n",
      "Enter the col number 1 or 2 or 3 :2\n",
      "X turn\n",
      "[['X' '-' '-']\n",
      " ['-' 'O' '-']\n",
      " ['-' '-' '-']]\n",
      "Enter the row number 1 or 2 or 3 :1\n",
      "Enter the col number 1 or 2 or 3 :2\n",
      "j\n",
      "O turn\n",
      "[['X' 'X' '-']\n",
      " ['-' 'O' '-']\n",
      " ['-' '-' '-']]\n",
      "Enter the row number 1 or 2 or 3 :3\n",
      "Enter the col number 1 or 2 or 3 :3\n",
      "X turn\n",
      "[['X' 'X' '-']\n",
      " ['-' 'O' '-']\n",
      " ['-' '-' 'O']]\n",
      "Enter the row number 1 or 2 or 3 :1\n",
      "Enter the col number 1 or 2 or 3 :3\n",
      "j\n",
      "X won\n",
      "k\n"
     ]
    }
   ],
   "source": [
    "player1_symbol='X'\n",
    "player2_symbol='O'\n",
    "def play():\n",
    "    for turn in range(9):\n",
    "        if turn%2==0:\n",
    "            print(\"X turn\")\n",
    "            place(player1_symbol)            \n",
    "            if won(player1_symbol):\n",
    "                \n",
    "                break\n",
    "        else:\n",
    "            print(\"O turn\")\n",
    "            place(player2_symbol)\n",
    "            if won(player2_symbol):\n",
    "                break\n",
    "    \"\"\"if not(won(player1_symbol) and won(player2_symbol)):\n",
    "        print(\"Draw\")\"\"\"\n",
    "        \n",
    "play()"
   ]
  },
  {
   "cell_type": "code",
   "execution_count": null,
   "metadata": {},
   "outputs": [],
   "source": []
  }
 ],
 "metadata": {
  "kernelspec": {
   "display_name": "Python 3",
   "language": "python",
   "name": "python3"
  },
  "language_info": {
   "codemirror_mode": {
    "name": "ipython",
    "version": 3
   },
   "file_extension": ".py",
   "mimetype": "text/x-python",
   "name": "python",
   "nbconvert_exporter": "python",
   "pygments_lexer": "ipython3",
   "version": "3.8.5"
  }
 },
 "nbformat": 4,
 "nbformat_minor": 4
}
